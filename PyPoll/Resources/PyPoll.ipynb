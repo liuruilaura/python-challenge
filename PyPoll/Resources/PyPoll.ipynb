{
 "cells": [
  {
   "cell_type": "code",
   "execution_count": 15,
   "id": "a7f1e667-9bd8-4c9b-9963-dc490ea20486",
   "metadata": {},
   "outputs": [],
   "source": [
    "import pandas as pd\n",
    "\n",
    "# Load the dataset\n",
    "file_path = 'election_data.csv'  # Replace with your actual file path\n",
    "df = pd.read_csv(file_path)\n",
    "\n",
    "# Total number of votes cast\n",
    "total_votes = len(df)\n",
    "\n",
    "# Complete list of candidates who received votes\n",
    "candidates = df['Candidate'].unique()"
   ]
  },
  {
   "cell_type": "code",
   "execution_count": 19,
   "id": "72fa2b51-518c-4f8e-b5ee-bf57a39a7b9d",
   "metadata": {},
   "outputs": [
    {
     "name": "stdout",
     "output_type": "stream",
     "text": [
      "Election Results\n",
      "-------------------------\n",
      "Total Votes: 369711\n",
      "-------------------------\n",
      "Charles Casper Stockham: 23.049% (85213)\n",
      "Diana DeGette: 73.812% (272892)\n",
      "Raymon Anthony Doane: 3.139% (11606)\n",
      "-------------------------\n",
      "Winner: Diana DeGette\n",
      "-------------------------\n"
     ]
    }
   ],
   "source": [
    "# Initialize a dictionary to store the vote counts for each candidate\n",
    "candidate_votes = {candidate: 0 for candidate in candidates}\n",
    "\n",
    "# Count the votes for each candidate\n",
    "for candidate in df['Candidate']:\n",
    "    candidate_votes[candidate] += 1\n",
    "\n",
    "# Calculate the percentage of votes and find the winner\n",
    "winner = None\n",
    "max_votes = 0\n",
    "for candidate in candidate_votes:\n",
    "    votes = candidate_votes[candidate]\n",
    "    vote_percentage = (votes / total_votes) * 100\n",
    "    candidate_votes[candidate] = (votes, vote_percentage)\n",
    "\n",
    "    # Check for the winner\n",
    "    if votes > max_votes:\n",
    "        max_votes = votes\n",
    "        winner = candidate\n",
    "\n",
    "# Print the analysis with separators\n",
    "separator = '-' * 25\n",
    "print(\"Election Results\")\n",
    "print(separator)\n",
    "print(f\"Total Votes: {total_votes}\")\n",
    "print(separator)\n",
    "\n",
    "for candidate, (votes, percentage) in candidate_votes.items():\n",
    "    print(f\"{candidate}: {percentage:.3f}% ({votes})\")\n",
    "\n",
    "print(separator)\n",
    "print(f\"Winner: {winner}\")\n",
    "print(separator)\n",
    "\n",
    "# Optionally, write this analysis to a text file\n",
    "with open('election_results.txt', 'w') as file:\n",
    "    file.write(\"Election Results\\n\")\n",
    "    file.write(separator + '\\n')\n",
    "    file.write(f\"Total Votes: {total_votes}\\n\")\n",
    "    file.write(separator + '\\n')\n",
    "    for candidate, (votes, percentage) in candidate_votes.items():\n",
    "        file.write(f\"{candidate}: {percentage:.3f}% ({votes})\\n\")\n",
    "    file.write(separator + '\\n')\n",
    "    file.write(f\"Winner: {winner}\\n\")\n",
    "    file.write(separator + '\\n')"
   ]
  },
  {
   "cell_type": "code",
   "execution_count": null,
   "id": "9a91185d-f36b-4626-af22-32f2324cd465",
   "metadata": {},
   "outputs": [],
   "source": []
  }
 ],
 "metadata": {
  "kernelspec": {
   "display_name": "Python 3 (ipykernel)",
   "language": "python",
   "name": "python3"
  },
  "language_info": {
   "codemirror_mode": {
    "name": "ipython",
    "version": 3
   },
   "file_extension": ".py",
   "mimetype": "text/x-python",
   "name": "python",
   "nbconvert_exporter": "python",
   "pygments_lexer": "ipython3",
   "version": "3.11.5"
  }
 },
 "nbformat": 4,
 "nbformat_minor": 5
}
